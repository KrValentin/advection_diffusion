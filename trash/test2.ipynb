{
 "cells": [
  {
   "cell_type": "markdown",
   "metadata": {},
   "source": [
    "author : kraemer valentin \n",
    "\n",
    "date : 12 nov 2023\n",
    "\n",
    "desc :  tentative de résolution 1D du pb d'advection diffusion avec DD Robin \n",
    "\n",
    "cours : PFE - A. Arnould, C. Japhet, P.Omnes\n",
    "\n",
    "#  Version 1 -  Méthode de décomposition de domaine avec Robin \n",
    "# Schéma cell-centered VF décentré hybride pour d'advection \n",
    "\n",
    "## Problème d'advection diffusion stationnaire :\n",
    "\n",
    "On se pose le problème 1D suivant : \n",
    "\n",
    "Soient $\\Omega = ]x_a, x_b[$ un ouvert borné de $\\mathbb{R}$,   $\\eta\\geq 0,~ b \\in \\mathbb{R},~\\nu>0, ~ \\bar{f}\\in L^2(\\Omega),~ u_a, ~ u_b \\in \\mathbb{R}$, on cherche à résoudre le problème suivant: \n",
    "\n",
    "trouver $\\bar{u}\\in H^2(\\Omega)$ tel que :\n",
    "\n",
    "$$\\eta u(x) + b u'(x) - \\nu u''(x) = f, ~~ x\\in \\Omega$$\n",
    "\n",
    "$$\n",
    "u(x_a) = u_a, ~~\n",
    "u(x_b) = u_b\n",
    "$$\n",
    "\n",
    "On se propose de résoudre ce problème avec l'algorithme de Schwarz avec conditions de Robin à l'interface. On y ajoutera par la suite une surcouche de parallélisation avec la bibliothèque mpi4py de python ainsi qu'un terme en temps. "
   ]
  },
  {
   "cell_type": "markdown",
   "metadata": {},
   "source": [
    "### Packages utiles"
   ]
  },
  {
   "cell_type": "code",
   "execution_count": 1,
   "metadata": {},
   "outputs": [],
   "source": [
    "import numpy as np \n",
    "# sage "
   ]
  },
  {
   "cell_type": "markdown",
   "metadata": {},
   "source": [
    "## 0.0 Création préliminaire des objets utilisés"
   ]
  },
  {
   "cell_type": "code",
   "execution_count": 2,
   "metadata": {},
   "outputs": [],
   "source": [
    "class mesh1D :\n",
    "    \"\"\"\"\n",
    "    Objet de maillage, schéma VF 1D\n",
    "    Paramètres : x_a, x_b les bords de l'intervalles, N_intervals le nombre d'intervalles pour les T_i\n",
    "    Perspective d'amélioration : disposition non uniforme des points \n",
    "    \"\"\"\n",
    "    def __init__(self, x_a, x_b, N_intervals):\n",
    "        import numpy as np\n",
    "        self.a = x_a \n",
    "        self.b = x_b \n",
    "        self.N_intervals = N_intervals\n",
    "        X = np.linspace(x_a,x_b,N_intervals+1)\n",
    "        \n",
    "        # init du maillage primal\n",
    "        T = np.empty((N_intervals, 2), dtype=np.double)\n",
    "        T[:, 0] = X[0:-1]\n",
    "        T[:, 1] = X[1:]\n",
    "        self.T = T\n",
    "\n",
    "        # init du maillage dual \n",
    "        D = np.empty((N_intervals+1,2))\n",
    "        D[0,0]= x_a \n",
    "        D[-1, -1] = x_b\n",
    "        H = (X[1:] -  X[0:-1] )\n",
    "        Xmid = X[0:-1]+ H/2\n",
    "        D[1:, 0] = Xmid\n",
    "        D[:-1, 1] = Xmid\n",
    "        self.D = D \n",
    "\n",
    "        self.supT = max(T[:,1] -T[:,0])\n",
    "        self.supD = max(D[:,1] -D[:,0])\n",
    "        self.H = H\n",
    "\n",
    "class param_phy:\n",
    "    \"\"\"\n",
    "    Objet de paramètres physiques liées au problèmes d'advection-diffusion 1D :\n",
    "        eta*u + b*u' - nu*u'' = f\n",
    "    Les paramètres entrant en jeux correspondent à : \n",
    "        - eta >= 0          : coefficient de reaction \n",
    "        - b real            : coefficient d'advection \n",
    "        - nu > 0            : coefficient de diffusion \n",
    "        - f in L^2          : terme source \n",
    "        - alpha_right > 0   : (facultatif) coefficient de Robin à droite \n",
    "        - alpha_left  > 0   : (facultatif) coefficient de Robin à gauche\n",
    "    \"\"\"\n",
    "    def __init__(self, eta, nu, b, f, alpha_right= None, alpha_left= None): \n",
    "        self.eta = eta \n",
    "        self.nu = nu \n",
    "        self.b = b \n",
    "        self.f =f \n",
    "        self.alpha_right = alpha_right\n",
    "        self.alpha_left = alpha_left\n",
    "\n",
    "    def verif_params(self): \n",
    "        if self.eta <0:\n",
    "            print('eta should be non negative')\n",
    "            raise ValueError\n",
    "        if self.nu <=0 :\n",
    "            print('nu should be positive')\n",
    "            raise ValueError\n",
    "        if (self.alpha_left !=None) and (self.alpha_left<=0) :\n",
    "            print('alpha_left should be positive')\n",
    "            raise ValueError\n",
    "        if (self.alpha_right!=None) and (self.alpha_right<=0):\n",
    "            print('alpha_right should be positive')\n",
    "            raise ValueError"
   ]
  },
  {
   "cell_type": "code",
   "execution_count": 36,
   "metadata": {},
   "outputs": [],
   "source": [
    "class advec_diff:\n",
    "    \"\"\"\n",
    "    Objet - résolution du problème d'advection diffusion 1D par méthode VF :\n",
    "        eta*u + b*u' - nu*u'' = f\n",
    "\n",
    "    Les paramètres en entrée sont les suivants : \n",
    "        - mesh              : (class mesh1D)    le maillage sur lequel on résoud le problème \n",
    "        - params            : (class param_phy) les paramètres physiques entrant en jeu dans le problème\n",
    "        - value_right       : la valeur imposée à droite (condition de Robin ou de Dirichlet)\n",
    "        - value_left        : la valeur imposée à gauche (condition de Robin ou de Dirichlet)\n",
    "        - cond_right        : (default = 'Dirichlet') le type de condition à droite, si non Dirichlet -> Robin \n",
    "        - cond_left         : (default = 'Dirichlet') le type de condition à gauche, si non Dirichlet -> Robin \n",
    "\n",
    "    Les paramètres entrant en jeux dans params (class param_phy) sont  : \n",
    "        - eta >= 0          : coefficient de reaction \n",
    "        - b real            : coefficient d'advection \n",
    "        - nu > 0            : coefficient de diffusion \n",
    "        - f in L^2          : terme source \n",
    "        - alpha_right > 0   : (facultatif) coefficient de Robin à droite \n",
    "        - alpha_left  > 0   : (facultatif) coefficient de Robin à gauche\n",
    "\n",
    "    Les données de maillages entrant en jeux sont (class mesh1D):\n",
    "        Paramètres : x_a, x_b les bords de l'intervalles, N_intervals le nombre d'intervalles pour les T_i\n",
    "    \n",
    "    \"\"\"\n",
    "    def __init__(self, mesh, params, value_right, value_left, cond_right = 'Dirichlet', cond_left = 'Dirichlet') :\n",
    "        self.params = params\n",
    "        self.mesh = mesh\n",
    "        self.value_right= value_right \n",
    "        self.value_left = value_left\n",
    "        self.cond_left = cond_left\n",
    "        self.cond_right = cond_right\n",
    "\n",
    "    def verif_input(self) :\n",
    "        if not isinstance(self.params, param_phy): \n",
    "            print('the param in advec_diff is not a param_phy class')\n",
    "            raise TypeError\n",
    "        self.params.verif_params()\n",
    "\n",
    "        if not isinstance(self.mesh, mesh1D):\n",
    "            print('the mesh is not a mesh1D class')\n",
    "            raise TypeError    \n",
    "\n",
    "        if (self.cond_left != 'Dirichlet' and self.params.alpha_left ==None) or (self.cond_right!='Dirichlet' and self.params.alpha_right==None) :\n",
    "            print('bad initialization of Robin condition')\n",
    "            raise AttributeError  \n",
    "        \n",
    "    def build_matrix(self):\n",
    "        import scipy.sparse as sp\n",
    "        bp = max(self.params.b, 0)\n",
    "        bm = min(self.params.b, 0)\n",
    "        n = self.mesh.N_intervals\n",
    "        nu = self.params.nu\n",
    "        eta = self.params.eta \n",
    "        h = self.mesh.supT # attention valable uniquement dans le cas du maillage regulier !!\n",
    "        nu2h = 2*nu/h\n",
    "        nu4h = 4*nu/h\n",
    "\n",
    "        if self.cond_left == 'Dirichlet' :\n",
    "            a_11 = eta *h  + ((nu2h-bm)**2)/(nu4h + bp-bm) +  nu2h+bp\n",
    "            a_12 = - ((nu2h-bm)**2)/(nu4h+bp-bm)\n",
    "            sm_1 = h*self.params.f(self.mesh.D[1,1])+ (nu2h+bp)*self.value_left\n",
    "        else : \n",
    "            a_11 = eta*h + ((nu2h - bm)**2)/(nu4h+bp-bm) + ((nu2h + bp)*(self.params.alpha_left+bp))/(nu2h + bp + self.params.alpha_left)\n",
    "            a_12 = ((nu2h - bm)**2)/(nu4h+bp-bm)\n",
    "            sm_1 = h*self.params.f(self.mesh.D[1,1]) + (nu2h + bp)/(nu2h + bp + self.params.alpha_left) * self.value_left\n",
    "        \n",
    "        if self.cond_right == 'Dirichlet': \n",
    "            a_nn = eta*h + ((nu2h + bp)**2)/(nu4h+bp-bm) + nu2h-bm\n",
    "            a_nnm = - ((nu2h+bp)**2)/(nu4h+bp-bm)\n",
    "            sm_n = h*self.params.f(self.mesh.D[-2,0]) + (nu2h- bm)*self.value_right\n",
    "        else : \n",
    "            a_nn = eta*h + ((nu2h + bp)**2)/(nu4h+bp-bm) + (nu2h-bm)*(self.params.alpha_right - bm)/(nu2h-bm + self.params.alpha_right)\n",
    "            a_nnm = - ((nu2h+bp)**2)/(nu4h+bp-bm)\n",
    "            sm_n = h*self.params.f(self.mesh.D[-2,0]) + (nu2h -bm)/(nu2h - bm + self.params.alpha_right) * self.value_right\n",
    "        \n",
    "\n",
    "        a_jjm = - ((nu2h+ bp)**2) / (nu4h + bp-bm)\n",
    "        a_jj  = eta*h + ((nu2h - bm)**2  + (nu2h + bp)**2 ) / (nu4h +bp - bm)\n",
    "        a_jjp = - ((nu2h - bm)**2) / (nu4h + bp-bm)\n",
    "\n",
    "\n",
    "        # Matrix assembly\n",
    "        A = sp.csc_matrix(sp.diags([a_jjm*np.ones(n-1, dtype=np.double),a_jj*np.ones(n, dtype=np.double),a_jjp*np.ones(n-1, dtype=np.double)], [-1,0,1], shape=(n,n)))\n",
    "        A[0,0]=  a_11\n",
    "        A[0,1] = a_12\n",
    "        A[-1,-1]=  a_nn\n",
    "        A[-1, -2]=  a_nnm\n",
    "\n",
    "\n",
    "        # second member assembly\n",
    "        # print(f'n_intervals = {n},taille de S = {n+1},  taille de D = {np.size(self.mesh.D[1:, 0])}')\n",
    "\n",
    "        SM = np.empty((n), dtype=np.double)\n",
    "        SM[1:-1] = h*self.params.f(self.mesh.D[2:-1, 0])\n",
    "        SM[0]= sm_1\n",
    "        SM[-1]= sm_n\n",
    "\n",
    "        return (A, SM)\n",
    "\n",
    "\n",
    "    def solve(self) :\n",
    "        from scipy.sparse.linalg import spsolve\n",
    "        (A,B) = self.build_matrix()\n",
    "        return spsolve(A, B)"
   ]
  },
  {
   "cell_type": "markdown",
   "metadata": {},
   "source": [
    "## 1.0 Phase de test\n",
    "\n",
    "Après avoir programmé ces différents objets, on se propose de les tester pour évaluer la méthode et le code. \n",
    "\n",
    "Commençons par définir les paramètres numériques du problème.\n",
    "\n",
    "### Choix du maillage \n",
    "\n",
    "Amélioration : lire les données numériques dans un fichier prévu à cet effet sous forme de dictionnaire ?"
   ]
  },
  {
   "cell_type": "code",
   "execution_count": 4,
   "metadata": {},
   "outputs": [],
   "source": [
    "x_a = 0.1                   # eviter les valeurs risquant les simplification ex : sin(0) = 0..\n",
    "x_b = 4.1 \n",
    "N_intervals = 100\n",
    "\n",
    "mesh = mesh1D(x_a, x_b, N_intervals)"
   ]
  },
  {
   "cell_type": "markdown",
   "metadata": {},
   "source": [
    "Définissons ensuite les données physiques du problème. \n",
    "\n",
    "### Choix des coefficients du problèmes\n",
    "\n",
    "Amélioration : lire les données physiques dans un fichier prévu à cet effet (sous forme de dictionnaire ?) "
   ]
  },
  {
   "cell_type": "code",
   "execution_count": 5,
   "metadata": {},
   "outputs": [],
   "source": [
    "# coefficient de reaction, diffusion, advection\n",
    "(eta, nu, b) = (1., 0.8, 7)\n",
    "cond_right   = 'Dirichlet'          # ou cond_right = 'Robin'\n",
    "cond_left    = 'Dirichlet'          # ou cond_left  = 'Robin'\n",
    "\n",
    "# coefficient de Robin \n",
    "alpha_right = 2.   if (cond_right != 'Dirichlet')  else None\n",
    "alpha_left  = 1.2  if (cond_left  != 'Dirichlet')  else None"
   ]
  },
  {
   "cell_type": "markdown",
   "metadata": {},
   "source": [
    "### Choix de la solution théorique et du terme source correspondant:\n",
    "\n",
    "On se donne une fonction u quelconque de $H^2(\\Omega)$, prenons par exemple celle-ci :"
   ]
  },
  {
   "cell_type": "code",
   "execution_count": 6,
   "metadata": {},
   "outputs": [],
   "source": [
    "def u_theo(x) : \n",
    "    return np.sin(2*x)+ 3*x+2 "
   ]
  },
  {
   "cell_type": "markdown",
   "metadata": {},
   "source": [
    "#### Méthode 1 : utilisation de sage pour trouver le terme source "
   ]
  },
  {
   "cell_type": "markdown",
   "metadata": {},
   "source": [
    "En exécutant la commande **sage** suivante, on trouve la forme du terme source à implémenter pour obtenir u, solution exacte du problème d'advection-diffusion présenté précédemment. \n",
    "\n",
    "Amélioration : automatiser la sortie de sage pour la définition de la fonction f dans python par la suite."
   ]
  },
  {
   "cell_type": "code",
   "execution_count": 7,
   "metadata": {},
   "outputs": [
    {
     "name": "stdout",
     "output_type": "stream",
     "text": [
      "┌────────────────────────────────────────────────────────────────────┐\n",
      "│ SageMath version 9.5, Release Date: 2022-01-30                     │\n",
      "│ Using Python 3.10.12. Type \"help()\" for help.                      │\n",
      "└────────────────────────────────────────────────────────────────────┘\n",
      "sage: sage: sage: sage: sage: sage: eta*(3*x + sin(2*x) + 2) + b*(2*cos(2*x) + 3) + 4*nu*sin(2*x)\n",
      "sage: Exiting Sage (CPU time 0m0.42s, Wall time 0m0.42s).\n"
     ]
    }
   ],
   "source": [
    "%%bash\n",
    "sage\n",
    "u(x) =sin(2*x) + 3*x+2\n",
    "eta = var('eta')\n",
    "nu = var('nu')\n",
    "b = var('b')\n",
    "def f(u, x, eta, b, nu) : return eta*u(x) + b*derivative(u, x)(x) - nu * derivative(derivative(u,x),x)(x)\n",
    "f(u, x, eta, b, nu)\n"
   ]
  },
  {
   "cell_type": "markdown",
   "metadata": {},
   "source": [
    "Il ne reste plus qu'à copier-coller la solution de sage dans f pour obtenir le second membre souhaité. "
   ]
  },
  {
   "cell_type": "code",
   "execution_count": 8,
   "metadata": {},
   "outputs": [],
   "source": [
    "def func(x, eta, b, nu) :\n",
    "    \"\"\"\"\n",
    "    La fonction source\n",
    "    \"\"\"\n",
    "    return eta*(3*x + np.sin(2*x) + 2) + b*(2*np.cos(2*x) + 3) + 4*nu*np.sin(2*x)\n",
    "\n",
    "def f(x):\n",
    "    return func(x, eta, b, nu)"
   ]
  },
  {
   "cell_type": "markdown",
   "metadata": {},
   "source": [
    "#### Méthode 2 : Définir la fonction théorique ainsi que ses deux dérivées \n",
    "\n",
    "En définissant la fonction $u_{theo}$ et ses deux dérivées, on obtient un processus automatisant la génération de f. \n",
    "\n",
    "Desavantage : clairement plus gourmand en temps de calcul en terme d'évaluation. "
   ]
  },
  {
   "cell_type": "code",
   "execution_count": 9,
   "metadata": {},
   "outputs": [],
   "source": [
    "class u_theorique :\n",
    "    \"\"\"\n",
    "    Solution théorique, ainsi que ses deux dérivées\n",
    "    \"\"\"\n",
    "    def __init__(self) :\n",
    "        pass \n",
    "\n",
    "    def u(self, x) :\n",
    "        return np.sin(2*x)+ 3*x+2\n",
    "\n",
    "    def du(self, x):\n",
    "        return 2*np.cos(2*x)+3\n",
    "\n",
    "    def ddu(self, x) :\n",
    "        return -4*np.sin(2*x)\n",
    "\n",
    "def func(u, x, eta, b, nu): \n",
    "    if not isinstance(u, u_theorique) : \n",
    "        print('error : u should be an u_theo objet')\n",
    "        raise TypeError\n",
    "    return eta * u.u(x) + b*u.du(x) - nu*u.ddu(x)\n",
    "    \n",
    "def f(x) :\n",
    "    u = u_theorique()\n",
    "    return func(u,x, eta, b, nu)"
   ]
  },
  {
   "cell_type": "markdown",
   "metadata": {},
   "source": [
    "## 1.1 Implémentation de la phase de test"
   ]
  },
  {
   "cell_type": "code",
   "execution_count": 37,
   "metadata": {},
   "outputs": [],
   "source": [
    "u_theo_obj = u_theorique()                  # objet de type u_theorique : contient la fonction theorique et ses deux derivees\n",
    "u_theo = u_theo_obj.u                       # fonction u_theorique, n'est PAS un objet u_theorique mais uniquement la fonction !!\n",
    "\n",
    "mesh = mesh1D(x_a, x_b, N_intervals)\n",
    "param  = param_phy(eta, nu, b,f)\n",
    "\n",
    "\n",
    "value_left = u_theo(x_a)\n",
    "value_right = u_theo(x_b)\n",
    "\n",
    "pb = advec_diff(mesh, params= param,value_left=value_left, value_right=value_right, cond_right= cond_right, cond_left= cond_left)\n",
    "pb.verif_input()\n",
    "u_intern = pb.solve()\n",
    "\n",
    "U= np.empty(N_intervals+2)\n",
    "U[0]= value_left\n",
    "U[1:-1]= u_intern\n",
    "U[-1]= value_right\n",
    "\n",
    "X = np.empty(N_intervals+2)\n",
    "X[:-1] = mesh.D[:,0]\n",
    "X[-1] = mesh.D[-1,1]"
   ]
  },
  {
   "cell_type": "markdown",
   "metadata": {},
   "source": [
    "#### Affichage sortie "
   ]
  },
  {
   "cell_type": "code",
   "execution_count": 38,
   "metadata": {},
   "outputs": [
    {
     "data": {
      "text/plain": [
       "Text(0.5, 0, 'X')"
      ]
     },
     "execution_count": 38,
     "metadata": {},
     "output_type": "execute_result"
    },
    {
     "data": {
      "image/png": "[encoded data removed]",
      "text/plain": [
       "<Figure size 720x576 with 2 Axes>"
      ]
     },
     "metadata": {
      "needs_background": "light"
     },
     "output_type": "display_data"
    }
   ],
   "source": [
    "import matplotlib.pyplot as plt\n",
    "fig, axs = plt.subplots(2, figsize= (10,8))\n",
    "axs[0].plot(X,U, label = 'solution numerique')\n",
    "axs[1].plot(X,u_theo(X), label = 'solution theorique')\n",
    "axs[0].legend()\n",
    "axs[1].legend()\n",
    "axs[0].set_xlabel('X')\n",
    "axs[1].set_xlabel('X')\n"
   ]
  }
 ],
 "metadata": {
  "kernelspec": {
   "display_name": "Python 3",
   "language": "python",
   "name": "python3"
  },
  "language_info": {
   "codemirror_mode": {
    "name": "ipython",
    "version": 3
   },
   "file_extension": ".py",
   "mimetype": "text/x-python",
   "name": "python",
   "nbconvert_exporter": "python",
   "pygments_lexer": "ipython3",
   "version": "3.10.12"
  }
 },
 "nbformat": 4,
 "nbformat_minor": 2
}

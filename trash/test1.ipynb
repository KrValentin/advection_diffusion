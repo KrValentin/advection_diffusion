{
 "cells": [
  {
   "cell_type": "code",
   "execution_count": null,
   "metadata": {},
   "outputs": [],
   "source": [
    "import numpy as np"
   ]
  },
  {
   "cell_type": "markdown",
   "metadata": {},
   "source": [
    "author : kraemer valentin \n",
    "date : 12 nov 2023\n",
    "\n",
    "# Test d'idées d'implémentation python\n",
    "\n"
   ]
  },
  {
   "cell_type": "markdown",
   "metadata": {},
   "source": [
    "## Class Mesh"
   ]
  },
  {
   "cell_type": "code",
   "execution_count": null,
   "metadata": {},
   "outputs": [],
   "source": [
    "class mesh1D:\n",
    "    \"\"\"\n",
    "    Maillage primal et dual 1D \n",
    "    \"\"\"\n",
    "\n",
    "    def __init__(self, a, b, Npoints_intern, X_mesh = None) -> None:\n",
    "        self.a= a \n",
    "        self.b = b\n",
    "        self.N_points \n",
    "        if X_mesh != None : \n",
    "            if len(X_mesh) == Npoints_intern+1 and X_mesh[0]==a and X_mesh[-1]= b :\n",
    "                self.mesh = X_mesh\n",
    "            else : \n",
    "                print(f'error in mesh generation : uncompatible size of X_mesh or limit conditions')\n",
    "                raise ValueError\n",
    "        else : \n",
    "            self.mesh = np.linspace(a,b, Npoints_intern+2)\n",
    "            \n"
   ]
  }
 ],
 "metadata": {
  "language_info": {
   "name": "python"
  }
 },
 "nbformat": 4,
 "nbformat_minor": 2
}
